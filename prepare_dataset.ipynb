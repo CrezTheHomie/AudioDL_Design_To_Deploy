{
 "cells": [
  {
   "cell_type": "code",
   "execution_count": null,
   "metadata": {},
   "outputs": [],
   "source": [
    "# import and init constants \n",
    "\n",
    "import librosa\n",
    "import os\n",
    "import json\n",
    "\n",
    "DATASET_PATH = \"Data\"\n",
    "JSON_PATH = \"Data/Speech_Commands_Data_Set.json\"\n",
    "SAMPLES_TO_CONSIDER = 22050"
   ]
  }
 ],
 "metadata": {
  "kernelspec": {
   "display_name": "Python 3",
   "language": "python",
   "name": "python3"
  },
  "language_info": {
   "name": "python",
   "version": "3.9.1 (tags/v3.9.1:1e5d33e, Dec  7 2020, 17:08:21) [MSC v.1927 64 bit (AMD64)]"
  },
  "orig_nbformat": 4,
  "vscode": {
   "interpreter": {
    "hash": "772f66837d71377a9e91bdceabcb0d3cb18014278592638634865ba084916021"
   }
  }
 },
 "nbformat": 4,
 "nbformat_minor": 2
}
